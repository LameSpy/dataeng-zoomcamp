{
 "cells": [
  {
   "cell_type": "code",
   "execution_count": null,
   "metadata": {},
   "outputs": [],
   "source": [
    "import findspark\n",
    "findspark.init()"
   ]
  },
  {
   "cell_type": "code",
   "execution_count": null,
   "metadata": {},
   "outputs": [],
   "source": [
    "import pyspark\n",
    "from pyspark.sql import SparkSession\n",
    "from pyspark.sql import  types\n",
    "from pyspark.sql import functions as F\n",
    "import pandas as pd"
   ]
  },
  {
   "cell_type": "code",
   "execution_count": null,
   "metadata": {},
   "outputs": [],
   "source": [
    "spark = SparkSession.builder \\\n",
    "    .master(\"local[*]\") \\\n",
    "    .appName('test') \\\n",
    "    .getOrCreate()"
   ]
  },
  {
   "cell_type": "code",
   "execution_count": null,
   "metadata": {},
   "outputs": [],
   "source": [
    "spark.version"
   ]
  },
  {
   "cell_type": "code",
   "execution_count": 33,
   "metadata": {},
   "outputs": [],
   "source": [
    "df_raw = pd.read_csv('/home/Дмитрий/datacamp/dataeng-zoomcamp/week_5_batch_processing/data/raw/FHVHV/fhvhv_tripdata_2021-06.csv.gz', nrows=400)"
   ]
  },
  {
   "cell_type": "code",
   "execution_count": 34,
   "metadata": {},
   "outputs": [
    {
     "data": {
      "text/html": [
       "<div>\n",
       "<style scoped>\n",
       "    .dataframe tbody tr th:only-of-type {\n",
       "        vertical-align: middle;\n",
       "    }\n",
       "\n",
       "    .dataframe tbody tr th {\n",
       "        vertical-align: top;\n",
       "    }\n",
       "\n",
       "    .dataframe thead th {\n",
       "        text-align: right;\n",
       "    }\n",
       "</style>\n",
       "<table border=\"1\" class=\"dataframe\">\n",
       "  <thead>\n",
       "    <tr style=\"text-align: right;\">\n",
       "      <th></th>\n",
       "      <th>dispatching_base_num</th>\n",
       "      <th>pickup_datetime</th>\n",
       "      <th>dropoff_datetime</th>\n",
       "      <th>PULocationID</th>\n",
       "      <th>DOLocationID</th>\n",
       "      <th>SR_Flag</th>\n",
       "      <th>Affiliated_base_number</th>\n",
       "    </tr>\n",
       "  </thead>\n",
       "  <tbody>\n",
       "    <tr>\n",
       "      <th>0</th>\n",
       "      <td>B02764</td>\n",
       "      <td>2021-06-01 00:02:41</td>\n",
       "      <td>2021-06-01 00:07:46</td>\n",
       "      <td>174</td>\n",
       "      <td>18</td>\n",
       "      <td>N</td>\n",
       "      <td>B02764</td>\n",
       "    </tr>\n",
       "    <tr>\n",
       "      <th>1</th>\n",
       "      <td>B02764</td>\n",
       "      <td>2021-06-01 00:16:16</td>\n",
       "      <td>2021-06-01 00:21:14</td>\n",
       "      <td>32</td>\n",
       "      <td>254</td>\n",
       "      <td>N</td>\n",
       "      <td>B02764</td>\n",
       "    </tr>\n",
       "    <tr>\n",
       "      <th>2</th>\n",
       "      <td>B02764</td>\n",
       "      <td>2021-06-01 00:27:01</td>\n",
       "      <td>2021-06-01 00:42:11</td>\n",
       "      <td>240</td>\n",
       "      <td>127</td>\n",
       "      <td>N</td>\n",
       "      <td>B02764</td>\n",
       "    </tr>\n",
       "    <tr>\n",
       "      <th>3</th>\n",
       "      <td>B02764</td>\n",
       "      <td>2021-06-01 00:46:08</td>\n",
       "      <td>2021-06-01 00:53:45</td>\n",
       "      <td>127</td>\n",
       "      <td>235</td>\n",
       "      <td>N</td>\n",
       "      <td>B02764</td>\n",
       "    </tr>\n",
       "    <tr>\n",
       "      <th>4</th>\n",
       "      <td>B02510</td>\n",
       "      <td>2021-06-01 00:45:42</td>\n",
       "      <td>2021-06-01 01:03:33</td>\n",
       "      <td>144</td>\n",
       "      <td>146</td>\n",
       "      <td>N</td>\n",
       "      <td>NaN</td>\n",
       "    </tr>\n",
       "    <tr>\n",
       "      <th>...</th>\n",
       "      <td>...</td>\n",
       "      <td>...</td>\n",
       "      <td>...</td>\n",
       "      <td>...</td>\n",
       "      <td>...</td>\n",
       "      <td>...</td>\n",
       "      <td>...</td>\n",
       "    </tr>\n",
       "    <tr>\n",
       "      <th>395</th>\n",
       "      <td>B02866</td>\n",
       "      <td>2021-06-01 00:30:38</td>\n",
       "      <td>2021-06-01 00:51:53</td>\n",
       "      <td>80</td>\n",
       "      <td>62</td>\n",
       "      <td>N</td>\n",
       "      <td>B02866</td>\n",
       "    </tr>\n",
       "    <tr>\n",
       "      <th>396</th>\n",
       "      <td>B02875</td>\n",
       "      <td>2021-06-01 00:06:23</td>\n",
       "      <td>2021-06-01 00:22:04</td>\n",
       "      <td>136</td>\n",
       "      <td>60</td>\n",
       "      <td>N</td>\n",
       "      <td>B02875</td>\n",
       "    </tr>\n",
       "    <tr>\n",
       "      <th>397</th>\n",
       "      <td>B02875</td>\n",
       "      <td>2021-06-01 00:25:31</td>\n",
       "      <td>2021-06-01 00:33:30</td>\n",
       "      <td>60</td>\n",
       "      <td>212</td>\n",
       "      <td>N</td>\n",
       "      <td>B02875</td>\n",
       "    </tr>\n",
       "    <tr>\n",
       "      <th>398</th>\n",
       "      <td>B02875</td>\n",
       "      <td>2021-06-01 00:49:57</td>\n",
       "      <td>2021-06-01 01:01:04</td>\n",
       "      <td>75</td>\n",
       "      <td>42</td>\n",
       "      <td>N</td>\n",
       "      <td>B02875</td>\n",
       "    </tr>\n",
       "    <tr>\n",
       "      <th>399</th>\n",
       "      <td>B02510</td>\n",
       "      <td>2021-06-01 00:04:32</td>\n",
       "      <td>2021-06-01 00:18:33</td>\n",
       "      <td>152</td>\n",
       "      <td>74</td>\n",
       "      <td>N</td>\n",
       "      <td>NaN</td>\n",
       "    </tr>\n",
       "  </tbody>\n",
       "</table>\n",
       "<p>400 rows × 7 columns</p>\n",
       "</div>"
      ],
      "text/plain": [
       "    dispatching_base_num      pickup_datetime     dropoff_datetime  \\\n",
       "0                 B02764  2021-06-01 00:02:41  2021-06-01 00:07:46   \n",
       "1                 B02764  2021-06-01 00:16:16  2021-06-01 00:21:14   \n",
       "2                 B02764  2021-06-01 00:27:01  2021-06-01 00:42:11   \n",
       "3                 B02764  2021-06-01 00:46:08  2021-06-01 00:53:45   \n",
       "4                 B02510  2021-06-01 00:45:42  2021-06-01 01:03:33   \n",
       "..                   ...                  ...                  ...   \n",
       "395               B02866  2021-06-01 00:30:38  2021-06-01 00:51:53   \n",
       "396               B02875  2021-06-01 00:06:23  2021-06-01 00:22:04   \n",
       "397               B02875  2021-06-01 00:25:31  2021-06-01 00:33:30   \n",
       "398               B02875  2021-06-01 00:49:57  2021-06-01 01:01:04   \n",
       "399               B02510  2021-06-01 00:04:32  2021-06-01 00:18:33   \n",
       "\n",
       "     PULocationID  DOLocationID SR_Flag Affiliated_base_number  \n",
       "0             174            18       N                 B02764  \n",
       "1              32           254       N                 B02764  \n",
       "2             240           127       N                 B02764  \n",
       "3             127           235       N                 B02764  \n",
       "4             144           146       N                    NaN  \n",
       "..            ...           ...     ...                    ...  \n",
       "395            80            62       N                 B02866  \n",
       "396           136            60       N                 B02875  \n",
       "397            60           212       N                 B02875  \n",
       "398            75            42       N                 B02875  \n",
       "399           152            74       N                    NaN  \n",
       "\n",
       "[400 rows x 7 columns]"
      ]
     },
     "execution_count": 34,
     "metadata": {},
     "output_type": "execute_result"
    }
   ],
   "source": [
    "df_raw"
   ]
  },
  {
   "cell_type": "code",
   "execution_count": 38,
   "metadata": {},
   "outputs": [],
   "source": [
    "df_raw['Affiliated_base_number'] = df_raw['Affiliated_base_number'].fillna('')"
   ]
  },
  {
   "cell_type": "code",
   "execution_count": 43,
   "metadata": {},
   "outputs": [
    {
     "data": {
      "text/plain": [
       "StructType([StructField('dispatching_base_num', StringType(), True), StructField('pickup_datetime', StringType(), True), StructField('dropoff_datetime', StringType(), True), StructField('PULocationID', LongType(), True), StructField('DOLocationID', LongType(), True), StructField('SR_Flag', StringType(), True), StructField('Affiliated_base_number', StringType(), True)])"
      ]
     },
     "execution_count": 43,
     "metadata": {},
     "output_type": "execute_result"
    }
   ],
   "source": [
    "spark.createDataFrame(df_raw).schema"
   ]
  },
  {
   "cell_type": "code",
   "execution_count": 14,
   "metadata": {},
   "outputs": [],
   "source": [
    "schema = types.StructType([\n",
    "    types.StructField('dispatching_base_num', types.StringType(), True),\n",
    "    types.StructField('pickup_datetime', types.TimestampType(), True),\n",
    "    types.StructField('dropoff_datetime', types.TimestampType(), True),\n",
    "    types.StructField('PULocationID', types.IntegerType(), True),\n",
    "    types.StructField('DOLocationID', types.IntegerType(), True),\n",
    "    types.StructField('SR_Flag', types.StringType(), True),\n",
    "    types.StructField('Affiliated_base_number  ', types.StringType(), True)])"
   ]
  },
  {
   "cell_type": "code",
   "execution_count": 15,
   "metadata": {},
   "outputs": [],
   "source": [
    "df_spark = spark.read \\\n",
    "    .option(\"header\", \"true\") \\\n",
    "    .schema(schema) \\\n",
    "    .csv('/home/Дмитрий/datacamp/dataeng-zoomcamp/week_5_batch_processing/data/raw/FHVHV/fhvhv_tripdata_2021-06.csv.gz')"
   ]
  },
  {
   "cell_type": "code",
   "execution_count": 17,
   "metadata": {},
   "outputs": [],
   "source": [
    "df_spark \\\n",
    "    .repartition(12) \\\n",
    "    .write.parquet('/home/Дмитрий/datacamp/dataeng-zoomcamp/week_5_batch_processing/data/pq/fhvhv', mode='overwrite')"
   ]
  },
  {
   "cell_type": "code",
   "execution_count": 44,
   "metadata": {},
   "outputs": [
    {
     "name": "stdout",
     "output_type": "stream",
     "text": [
      "/home/Дмитрий/datacamp/dataeng-zoomcamp/week_5_batch_processing/data/pq/fhvhv\n",
      "├── [   0]  _SUCCESS\n",
      "├── [ 24M]  part-00000-c6ffeda5-de2c-4cb1-9899-d3fad16324ed-c000.snappy.parquet\n",
      "├── [ 24M]  part-00001-c6ffeda5-de2c-4cb1-9899-d3fad16324ed-c000.snappy.parquet\n",
      "├── [ 24M]  part-00002-c6ffeda5-de2c-4cb1-9899-d3fad16324ed-c000.snappy.parquet\n",
      "├── [ 24M]  part-00003-c6ffeda5-de2c-4cb1-9899-d3fad16324ed-c000.snappy.parquet\n",
      "├── [ 24M]  part-00004-c6ffeda5-de2c-4cb1-9899-d3fad16324ed-c000.snappy.parquet\n",
      "├── [ 24M]  part-00005-c6ffeda5-de2c-4cb1-9899-d3fad16324ed-c000.snappy.parquet\n",
      "├── [ 24M]  part-00006-c6ffeda5-de2c-4cb1-9899-d3fad16324ed-c000.snappy.parquet\n",
      "├── [ 24M]  part-00007-c6ffeda5-de2c-4cb1-9899-d3fad16324ed-c000.snappy.parquet\n",
      "├── [ 24M]  part-00008-c6ffeda5-de2c-4cb1-9899-d3fad16324ed-c000.snappy.parquet\n",
      "├── [ 24M]  part-00009-c6ffeda5-de2c-4cb1-9899-d3fad16324ed-c000.snappy.parquet\n",
      "├── [ 24M]  part-00010-c6ffeda5-de2c-4cb1-9899-d3fad16324ed-c000.snappy.parquet\n",
      "└── [ 24M]  part-00011-c6ffeda5-de2c-4cb1-9899-d3fad16324ed-c000.snappy.parquet\n",
      "\n",
      "0 directories, 13 files\n",
      "total 287M\n",
      "drwxr-xr-x 2 Дмитрий Дмитрий 4.0K Apr 13 16:06 .\n",
      "drwxr-xr-x 5 Дмитрий Дмитрий 4.0K Apr 13 16:06 ..\n",
      "-rw-r--r-- 1 Дмитрий Дмитрий    8 Apr 13 16:06 ._SUCCESS.crc\n",
      "-rw-r--r-- 1 Дмитрий Дмитрий 190K Apr 13 16:06 .part-00000-c6ffeda5-de2c-4cb1-9899-d3fad16324ed-c000.snappy.parquet.crc\n",
      "-rw-r--r-- 1 Дмитрий Дмитрий 190K Apr 13 16:06 .part-00001-c6ffeda5-de2c-4cb1-9899-d3fad16324ed-c000.snappy.parquet.crc\n",
      "-rw-r--r-- 1 Дмитрий Дмитрий 190K Apr 13 16:06 .part-00002-c6ffeda5-de2c-4cb1-9899-d3fad16324ed-c000.snappy.parquet.crc\n",
      "-rw-r--r-- 1 Дмитрий Дмитрий 190K Apr 13 16:06 .part-00003-c6ffeda5-de2c-4cb1-9899-d3fad16324ed-c000.snappy.parquet.crc\n",
      "-rw-r--r-- 1 Дмитрий Дмитрий 190K Apr 13 16:06 .part-00004-c6ffeda5-de2c-4cb1-9899-d3fad16324ed-c000.snappy.parquet.crc\n",
      "-rw-r--r-- 1 Дмитрий Дмитрий 190K Apr 13 16:06 .part-00005-c6ffeda5-de2c-4cb1-9899-d3fad16324ed-c000.snappy.parquet.crc\n",
      "-rw-r--r-- 1 Дмитрий Дмитрий 190K Apr 13 16:06 .part-00006-c6ffeda5-de2c-4cb1-9899-d3fad16324ed-c000.snappy.parquet.crc\n",
      "-rw-r--r-- 1 Дмитрий Дмитрий 190K Apr 13 16:06 .part-00007-c6ffeda5-de2c-4cb1-9899-d3fad16324ed-c000.snappy.parquet.crc\n",
      "-rw-r--r-- 1 Дмитрий Дмитрий 190K Apr 13 16:06 .part-00008-c6ffeda5-de2c-4cb1-9899-d3fad16324ed-c000.snappy.parquet.crc\n",
      "-rw-r--r-- 1 Дмитрий Дмитрий 190K Apr 13 16:06 .part-00009-c6ffeda5-de2c-4cb1-9899-d3fad16324ed-c000.snappy.parquet.crc\n",
      "-rw-r--r-- 1 Дмитрий Дмитрий 190K Apr 13 16:06 .part-00010-c6ffeda5-de2c-4cb1-9899-d3fad16324ed-c000.snappy.parquet.crc\n",
      "-rw-r--r-- 1 Дмитрий Дмитрий 190K Apr 13 16:06 .part-00011-c6ffeda5-de2c-4cb1-9899-d3fad16324ed-c000.snappy.parquet.crc\n",
      "-rw-r--r-- 1 Дмитрий Дмитрий    0 Apr 13 16:06 _SUCCESS\n",
      "-rw-r--r-- 1 Дмитрий Дмитрий  24M Apr 13 16:06 part-00000-c6ffeda5-de2c-4cb1-9899-d3fad16324ed-c000.snappy.parquet\n",
      "-rw-r--r-- 1 Дмитрий Дмитрий  24M Apr 13 16:06 part-00001-c6ffeda5-de2c-4cb1-9899-d3fad16324ed-c000.snappy.parquet\n",
      "-rw-r--r-- 1 Дмитрий Дмитрий  24M Apr 13 16:06 part-00002-c6ffeda5-de2c-4cb1-9899-d3fad16324ed-c000.snappy.parquet\n",
      "-rw-r--r-- 1 Дмитрий Дмитрий  24M Apr 13 16:06 part-00003-c6ffeda5-de2c-4cb1-9899-d3fad16324ed-c000.snappy.parquet\n",
      "-rw-r--r-- 1 Дмитрий Дмитрий  24M Apr 13 16:06 part-00004-c6ffeda5-de2c-4cb1-9899-d3fad16324ed-c000.snappy.parquet\n",
      "-rw-r--r-- 1 Дмитрий Дмитрий  24M Apr 13 16:06 part-00005-c6ffeda5-de2c-4cb1-9899-d3fad16324ed-c000.snappy.parquet\n",
      "-rw-r--r-- 1 Дмитрий Дмитрий  24M Apr 13 16:06 part-00006-c6ffeda5-de2c-4cb1-9899-d3fad16324ed-c000.snappy.parquet\n",
      "-rw-r--r-- 1 Дмитрий Дмитрий  24M Apr 13 16:06 part-00007-c6ffeda5-de2c-4cb1-9899-d3fad16324ed-c000.snappy.parquet\n",
      "-rw-r--r-- 1 Дмитрий Дмитрий  24M Apr 13 16:06 part-00008-c6ffeda5-de2c-4cb1-9899-d3fad16324ed-c000.snappy.parquet\n",
      "-rw-r--r-- 1 Дмитрий Дмитрий  24M Apr 13 16:06 part-00009-c6ffeda5-de2c-4cb1-9899-d3fad16324ed-c000.snappy.parquet\n",
      "-rw-r--r-- 1 Дмитрий Дмитрий  24M Apr 13 16:06 part-00010-c6ffeda5-de2c-4cb1-9899-d3fad16324ed-c000.snappy.parquet\n",
      "-rw-r--r-- 1 Дмитрий Дмитрий  24M Apr 13 16:06 part-00011-c6ffeda5-de2c-4cb1-9899-d3fad16324ed-c000.snappy.parquet\n"
     ]
    }
   ],
   "source": [
    "!tree -h /home/Дмитрий/datacamp/dataeng-zoomcamp/week_5_batch_processing/data/pq/fhvhv\n",
    "!ls -lah /home/Дмитрий/datacamp/dataeng-zoomcamp/week_5_batch_processing/data/pq/fhvhv"
   ]
  },
  {
   "cell_type": "code",
   "execution_count": 27,
   "metadata": {},
   "outputs": [],
   "source": [
    "df_park = spark.read.parquet('/home/Дмитрий/datacamp/dataeng-zoomcamp/week_5_batch_processing/data/pq/fhvhv')"
   ]
  },
  {
   "cell_type": "code",
   "execution_count": 28,
   "metadata": {},
   "outputs": [
    {
     "name": "stderr",
     "output_type": "stream",
     "text": [
      "/home/Дмитрий/spark/spark-3.3.2-bin-hadoop3/python/pyspark/sql/dataframe.py:229: FutureWarning: Deprecated in 2.0, use createOrReplaceTempView instead.\n",
      "  warnings.warn(\"Deprecated in 2.0, use createOrReplaceTempView instead.\", FutureWarning)\n"
     ]
    }
   ],
   "source": [
    "df_park.registerTempTable('spark_table')"
   ]
  },
  {
   "cell_type": "code",
   "execution_count": 50,
   "metadata": {},
   "outputs": [
    {
     "name": "stdout",
     "output_type": "stream",
     "text": [
      "+--------+\n",
      "|count(1)|\n",
      "+--------+\n",
      "|  452470|\n",
      "+--------+\n",
      "\n"
     ]
    }
   ],
   "source": [
    "df_result = spark.sql(\n",
    "\"\"\"\n",
    "select count(*)\n",
    "from spark_table  \n",
    "where pickup_datetime >= '2021-06-15' \n",
    "      and pickup_datetime < '2021-06-16'\n",
    "\"\"\").show()"
   ]
  },
  {
   "cell_type": "code",
   "execution_count": 75,
   "metadata": {},
   "outputs": [
    {
     "name": "stdout",
     "output_type": "stream",
     "text": [
      "+--------------------+-------------------+-------------------+------------+------------+-------+------------------------+------------------+\n",
      "|dispatching_base_num|    pickup_datetime|   dropoff_datetime|PULocationID|DOLocationID|SR_Flag|Affiliated_base_number  |              hour|\n",
      "+--------------------+-------------------+-------------------+------------+------------+-------+------------------------+------------------+\n",
      "|              B02872|2021-06-25 13:55:41|2021-06-28 08:48:25|          98|         265|      N|                  B02872|  66.8788888888889|\n",
      "|              B02765|2021-06-22 12:09:45|2021-06-23 13:42:44|         188|         198|      N|                  B02765|25.549722222222222|\n",
      "|              B02879|2021-06-27 10:32:29|2021-06-28 06:31:20|          78|         169|      N|                  B02879|19.980833333333333|\n",
      "|              B02800|2021-06-26 22:37:11|2021-06-27 16:49:01|         263|          36|      N|                    null|18.197222222222223|\n",
      "|              B02682|2021-06-23 20:40:43|2021-06-24 13:08:44|           3|         247|      N|                  B02682|16.466944444444444|\n",
      "|              B02869|2021-06-23 22:03:31|2021-06-24 12:19:39|         186|         216|      N|                  B02869|14.268888888888888|\n",
      "|              B02877|2021-06-24 23:11:00|2021-06-25 13:05:35|         181|          61|      N|                  B02877|13.909722222222221|\n",
      "|              B02765|2021-06-04 20:56:02|2021-06-05 08:36:14|          53|         252|      N|                  B02765|             11.67|\n",
      "|              B02617|2021-06-27 07:45:19|2021-06-27 19:07:16|         187|         245|      N|                  B02617|11.365833333333333|\n",
      "|              B02880|2021-06-20 17:05:12|2021-06-21 04:04:16|         144|         231|      N|                  B02880|10.984444444444444|\n",
      "+--------------------+-------------------+-------------------+------------+------------+-------+------------------------+------------------+\n",
      "\n"
     ]
    }
   ],
   "source": [
    "spark.sql(\n",
    "\"\"\"\n",
    "select *,\n",
    "(unix_timestamp(dropoff_datetime) - unix_timestamp(pickup_datetime))/3600 as hour\n",
    "from spark_table  \n",
    "order by hour desc\n",
    "limit 10\n",
    "\"\"\").show()"
   ]
  },
  {
   "cell_type": "code",
   "execution_count": 76,
   "metadata": {},
   "outputs": [],
   "source": [
    "zone = spark.read.parquet('/home/Дмитрий/datacamp/dataeng-zoomcamp/week_5_batch_processing/data/zones')"
   ]
  },
  {
   "cell_type": "code",
   "execution_count": 78,
   "metadata": {},
   "outputs": [
    {
     "name": "stderr",
     "output_type": "stream",
     "text": [
      "/home/Дмитрий/spark/spark-3.3.2-bin-hadoop3/python/pyspark/sql/dataframe.py:229: FutureWarning: Deprecated in 2.0, use createOrReplaceTempView instead.\n",
      "  warnings.warn(\"Deprecated in 2.0, use createOrReplaceTempView instead.\", FutureWarning)\n"
     ]
    }
   ],
   "source": [
    "zone.registerTempTable('zone')"
   ]
  },
  {
   "cell_type": "code",
   "execution_count": 85,
   "metadata": {},
   "outputs": [
    {
     "name": "stdout",
     "output_type": "stream",
     "text": [
      "+----------+-------------+--------------------+------------+\n",
      "|LocationID|      Borough|                Zone|service_zone|\n",
      "+----------+-------------+--------------------+------------+\n",
      "|         1|          EWR|      Newark Airport|         EWR|\n",
      "|         2|       Queens|         Jamaica Bay|   Boro Zone|\n",
      "|         3|        Bronx|Allerton/Pelham G...|   Boro Zone|\n",
      "|         4|    Manhattan|       Alphabet City| Yellow Zone|\n",
      "|         5|Staten Island|       Arden Heights|   Boro Zone|\n",
      "|         6|Staten Island|Arrochar/Fort Wad...|   Boro Zone|\n",
      "|         7|       Queens|             Astoria|   Boro Zone|\n",
      "|         8|       Queens|        Astoria Park|   Boro Zone|\n",
      "|         9|       Queens|          Auburndale|   Boro Zone|\n",
      "|        10|       Queens|        Baisley Park|   Boro Zone|\n",
      "|        11|     Brooklyn|          Bath Beach|   Boro Zone|\n",
      "|        12|    Manhattan|        Battery Park| Yellow Zone|\n",
      "|        13|    Manhattan|   Battery Park City| Yellow Zone|\n",
      "|        14|     Brooklyn|           Bay Ridge|   Boro Zone|\n",
      "|        15|       Queens|Bay Terrace/Fort ...|   Boro Zone|\n",
      "|        16|       Queens|             Bayside|   Boro Zone|\n",
      "|        17|     Brooklyn|             Bedford|   Boro Zone|\n",
      "|        18|        Bronx|        Bedford Park|   Boro Zone|\n",
      "|        19|       Queens|           Bellerose|   Boro Zone|\n",
      "|        20|        Bronx|             Belmont|   Boro Zone|\n",
      "+----------+-------------+--------------------+------------+\n",
      "only showing top 20 rows\n",
      "\n"
     ]
    }
   ],
   "source": [
    "zone.show()"
   ]
  },
  {
   "cell_type": "code",
   "execution_count": 91,
   "metadata": {},
   "outputs": [
    {
     "name": "stdout",
     "output_type": "stream",
     "text": [
      "+-------------------+------+\n",
      "|               zone|     n|\n",
      "+-------------------+------+\n",
      "|Crown Heights North|231279|\n",
      "+-------------------+------+\n",
      "\n"
     ]
    }
   ],
   "source": [
    "spark.sql(\n",
    "\"\"\"\n",
    "select zone, count(*) as n\n",
    "from spark_table st\n",
    "left join zone z on st.PULocationID = z.LocationID\n",
    "group by zone\n",
    "order by n desc\n",
    "limit 1\n",
    "\"\"\"\n",
    ").show()"
   ]
  },
  {
   "cell_type": "code",
   "execution_count": 93,
   "metadata": {},
   "outputs": [
    {
     "name": "stdout",
     "output_type": "stream",
     "text": [
      "+---------+-----------+-----------+\n",
      "|namespace|   viewName|isTemporary|\n",
      "+---------+-----------+-----------+\n",
      "|         |spark_table|       true|\n",
      "|         |       zone|       true|\n",
      "+---------+-----------+-----------+\n",
      "\n"
     ]
    }
   ],
   "source": [
    "spark.sql(\n",
    "'''\n",
    "show views\n",
    "'''\n",
    ").show()"
   ]
  }
 ],
 "metadata": {
  "kernelspec": {
   "display_name": "my_venv",
   "language": "python",
   "name": "python3"
  },
  "language_info": {
   "codemirror_mode": {
    "name": "ipython",
    "version": 3
   },
   "file_extension": ".py",
   "mimetype": "text/x-python",
   "name": "python",
   "nbconvert_exporter": "python",
   "pygments_lexer": "ipython3",
   "version": "3.6.9"
  },
  "orig_nbformat": 4
 },
 "nbformat": 4,
 "nbformat_minor": 2
}
