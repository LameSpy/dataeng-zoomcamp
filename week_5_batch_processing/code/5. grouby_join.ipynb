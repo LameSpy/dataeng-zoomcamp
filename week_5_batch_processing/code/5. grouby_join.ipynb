{
 "cells": [
  {
   "cell_type": "code",
   "execution_count": null,
   "metadata": {},
   "outputs": [],
   "source": [
    "import findspark\n",
    "findspark.init()"
   ]
  },
  {
   "cell_type": "code",
   "execution_count": null,
   "metadata": {},
   "outputs": [],
   "source": [
    "import pyspark\n",
    "from pyspark.sql import SparkSession\n",
    "from pyspark.sql import  types\n",
    "from pyspark.sql import functions as F\n",
    "import pandas as pd\n",
    "\n",
    "spark = SparkSession.builder \\\n",
    "    .master(\"local[*]\") \\\n",
    "    .appName('test') \\\n",
    "    .getOrCreate()"
   ]
  },
  {
   "cell_type": "code",
   "execution_count": null,
   "metadata": {},
   "outputs": [],
   "source": [
    "df_green = spark.read.parquet('/home/Дмитрий/datacamp/dataeng-zoomcamp/week_5_batch_processing/data/pq/green/*/*')"
   ]
  },
  {
   "cell_type": "code",
   "execution_count": null,
   "metadata": {},
   "outputs": [],
   "source": [
    "df_green.columns"
   ]
  },
  {
   "cell_type": "code",
   "execution_count": null,
   "metadata": {},
   "outputs": [],
   "source": [
    "# convert spark table in spark SQL table\n",
    "df_green.registerTempTable('green')"
   ]
  },
  {
   "cell_type": "code",
   "execution_count": null,
   "metadata": {},
   "outputs": [],
   "source": [
    "df_green_revenue = spark.sql(\"\"\"\n",
    "      select \n",
    "    -- Reveneue grouping \n",
    "    date_trunc('hour', lpep_pickup_datetime) as hour,\n",
    "    PULocationID as zone,\n",
    "\n",
    "    -- Revenue calculation \n",
    "    sum(total_amount) as amount,\n",
    "    count(1) as number_records\n",
    "\n",
    "    from green\n",
    "    where lpep_pickup_datetime >= '2020-01-01'\n",
    "    group by 1,2\n",
    "\"\"\")"
   ]
  },
  {
   "cell_type": "code",
   "execution_count": null,
   "metadata": {},
   "outputs": [],
   "source": [
    "df_green_revenue.count()"
   ]
  },
  {
   "cell_type": "code",
   "execution_count": null,
   "metadata": {},
   "outputs": [],
   "source": [
    "df_green_revenue.orderBy(['hour', 'zone']).show()"
   ]
  },
  {
   "cell_type": "code",
   "execution_count": null,
   "metadata": {},
   "outputs": [],
   "source": [
    "df_green_revenue \\\n",
    "    .repartition(4) \\\n",
    "    .write.parquet('/home/Дмитрий/datacamp/dataeng-zoomcamp/week_5_batch_processing/data/report/revenue/green/', mode='overwrite')"
   ]
  },
  {
   "cell_type": "code",
   "execution_count": null,
   "metadata": {},
   "outputs": [],
   "source": [
    "df_yellow = spark.read.parquet('/home/Дмитрий/datacamp/dataeng-zoomcamp/week_5_batch_processing/data/pq/yellow/*/*')"
   ]
  },
  {
   "cell_type": "code",
   "execution_count": null,
   "metadata": {},
   "outputs": [],
   "source": [
    "# convert spark table in spark SQL table\n",
    "df_yellow.registerTempTable('yellow')"
   ]
  },
  {
   "cell_type": "code",
   "execution_count": null,
   "metadata": {},
   "outputs": [],
   "source": [
    "df_yellow_revenue = spark.sql(\"\"\"\n",
    "      select \n",
    "    -- Reveneue grouping \n",
    "    date_trunc('hour', tpep_pickup_datetime) as hour,\n",
    "    PULocationID as zone,\n",
    "\n",
    "    -- Revenue calculation \n",
    "    sum(total_amount) as amount,\n",
    "    count(1) as number_records\n",
    "\n",
    "    from yellow\n",
    "    where tpep_pickup_datetime >= '2020-01-01'\n",
    "    group by 1,2\n",
    "\"\"\")"
   ]
  },
  {
   "cell_type": "code",
   "execution_count": null,
   "metadata": {},
   "outputs": [],
   "source": [
    "df_yellow_revenue.count()"
   ]
  },
  {
   "cell_type": "code",
   "execution_count": null,
   "metadata": {},
   "outputs": [],
   "source": [
    "df_yellow_revenue.orderBy(['hour', 'zone']).show()"
   ]
  },
  {
   "cell_type": "code",
   "execution_count": null,
   "metadata": {},
   "outputs": [],
   "source": [
    "df_yellow_revenue \\\n",
    "    .repartition(4) \\\n",
    "    .write.parquet('/home/Дмитрий/datacamp/dataeng-zoomcamp/week_5_batch_processing/data/report/revenue/yellow/', mode='overwrite')"
   ]
  },
  {
   "cell_type": "code",
   "execution_count": null,
   "metadata": {},
   "outputs": [],
   "source": [
    "df_green_revenue = spark.read.parquet('/home/Дмитрий/datacamp/dataeng-zoomcamp/week_5_batch_processing/data/report/revenue/green/')\n",
    "df_yellow_revenue = spark.read.parquet('/home/Дмитрий/datacamp/dataeng-zoomcamp/week_5_batch_processing/data/report/revenue/yellow/')"
   ]
  },
  {
   "cell_type": "code",
   "execution_count": null,
   "metadata": {},
   "outputs": [],
   "source": [
    "df_green_revenue_tmp = df_green_revenue \\\n",
    "    .withColumnRenamed('amount', 'green_amount') \\\n",
    "    .withColumnRenamed('number_records', 'green_amount_records')\n",
    "    \n",
    "df_yellow_revenue_tmp = df_yellow_revenue \\\n",
    "    .withColumnRenamed('amount', 'yellow_amount') \\\n",
    "    .withColumnRenamed('number_records', 'yellow_amount_records')"
   ]
  },
  {
   "cell_type": "code",
   "execution_count": null,
   "metadata": {},
   "outputs": [],
   "source": [
    "df_join = df_green_revenue_tmp.join(df_yellow_revenue_tmp, on=['hour', 'zone'], how='outer')"
   ]
  },
  {
   "cell_type": "code",
   "execution_count": null,
   "metadata": {},
   "outputs": [],
   "source": [
    "df_join \\\n",
    "    .show(20)"
   ]
  },
  {
   "cell_type": "code",
   "execution_count": null,
   "metadata": {},
   "outputs": [],
   "source": [
    "df_join.write.parquet('/home/Дмитрий/datacamp/dataeng-zoomcamp/week_5_batch_processing/data/report/revenue/total/', mode='overwrite') "
   ]
  },
  {
   "cell_type": "code",
   "execution_count": null,
   "metadata": {},
   "outputs": [],
   "source": [
    "df_join = spark.read.parquet('/home/Дмитрий/datacamp/dataeng-zoomcamp/week_5_batch_processing/data/report/revenue/total/') "
   ]
  },
  {
   "cell_type": "code",
   "execution_count": null,
   "metadata": {},
   "outputs": [],
   "source": [
    "df_zone = spark.read.parquet('/home/Дмитрий/datacamp/dataeng-zoomcamp/week_5_batch_processing/data/zones')"
   ]
  },
  {
   "cell_type": "code",
   "execution_count": 15,
   "metadata": {},
   "outputs": [
    {
     "data": {
      "text/plain": [
       "DataFrame[hour: timestamp, zone: int, green_amount: double, green_amount_records: bigint, yellow_amount: double, yellow_amount_records: bigint]"
      ]
     },
     "execution_count": 15,
     "metadata": {},
     "output_type": "execute_result"
    }
   ],
   "source": [
    "df_join"
   ]
  },
  {
   "cell_type": "code",
   "execution_count": 14,
   "metadata": {},
   "outputs": [
    {
     "data": {
      "text/plain": [
       "DataFrame[LocationID: string, Borough: string, Zone: string, service_zone: string]"
      ]
     },
     "execution_count": 14,
     "metadata": {},
     "output_type": "execute_result"
    }
   ],
   "source": [
    "df_zone"
   ]
  },
  {
   "cell_type": "code",
   "execution_count": 16,
   "metadata": {},
   "outputs": [],
   "source": [
    "df_results = df_join.join(df_zone, df_join.zone == df_zone.LocationIDs)"
   ]
  },
  {
   "cell_type": "code",
   "execution_count": 18,
   "metadata": {},
   "outputs": [
    {
     "name": "stdout",
     "output_type": "stream",
     "text": [
      "+-------------------+----+------------------+--------------------+------------------+---------------------+---------+--------------------+------------+\n",
      "|               hour|zone|      green_amount|green_amount_records|     yellow_amount|yellow_amount_records|  Borough|                Zone|service_zone|\n",
      "+-------------------+----+------------------+--------------------+------------------+---------------------+---------+--------------------+------------+\n",
      "|2020-01-01 00:00:00|  10|              null|                null|             42.41|                    2|   Queens|        Baisley Park|   Boro Zone|\n",
      "|2020-01-01 00:00:00|  14|              null|                null|               8.8|                    1| Brooklyn|           Bay Ridge|   Boro Zone|\n",
      "|2020-01-01 00:00:00|  15|              null|                null|             34.09|                    1|   Queens|Bay Terrace/Fort ...|   Boro Zone|\n",
      "|2020-01-01 00:00:00|  17|195.03000000000003|                   9|220.20999999999998|                    8| Brooklyn|             Bedford|   Boro Zone|\n",
      "|2020-01-01 00:00:00|  22|              15.8|                   1|              null|                 null| Brooklyn|    Bensonhurst West|   Boro Zone|\n",
      "|2020-01-01 00:00:00|  24|              87.6|                   3| 754.9500000000002|                   45|Manhattan|        Bloomingdale| Yellow Zone|\n",
      "|2020-01-01 00:00:00|  25| 531.0000000000002|                  26|            324.35|                   16| Brooklyn|         Boerum Hill|   Boro Zone|\n",
      "|2020-01-01 00:00:00|  32| 68.94999999999999|                   2|              18.0|                    1|    Bronx|           Bronxdale|   Boro Zone|\n",
      "|2020-01-01 00:00:00|  33|317.27000000000004|                  11|            255.56|                    8| Brooklyn|    Brooklyn Heights|   Boro Zone|\n",
      "|2020-01-01 00:00:00|  34|              null|                null|              19.3|                    1| Brooklyn|  Brooklyn Navy Yard|   Boro Zone|\n",
      "|2020-01-01 00:00:00|  35|            129.96|                   5|              null|                 null| Brooklyn|         Brownsville|   Boro Zone|\n",
      "|2020-01-01 00:00:00|  42| 799.7599999999994|                  52| 635.3500000000001|                   46|Manhattan|Central Harlem North|   Boro Zone|\n",
      "|2020-01-01 00:00:00|  43|            107.52|                   6| 6539.510000000012|                  390|Manhattan|        Central Park| Yellow Zone|\n",
      "|2020-01-01 00:00:00|  49|266.76000000000005|                  14|185.64999999999998|                   10| Brooklyn|        Clinton Hill|   Boro Zone|\n",
      "|2020-01-01 00:00:00|  50|              null|                null| 4177.479999999999|                  183|Manhattan|        Clinton West| Yellow Zone|\n",
      "|2020-01-01 00:00:00|  52| 83.33000000000001|                   4|              49.8|                    2| Brooklyn|         Cobble Hill|   Boro Zone|\n",
      "|2020-01-01 00:00:00|  55|            129.29|                   4|              null|                 null| Brooklyn|        Coney Island|   Boro Zone|\n",
      "|2020-01-01 00:00:00|  56|             99.69|                   3|              18.1|                    2|   Queens|              Corona|   Boro Zone|\n",
      "|2020-01-01 00:00:00|  59|              50.9|                   3|              null|                 null|    Bronx|        Crotona Park|   Boro Zone|\n",
      "|2020-01-01 00:00:00|  65|199.48999999999998|                  10|            409.35|                   19| Brooklyn|Downtown Brooklyn...|   Boro Zone|\n",
      "+-------------------+----+------------------+--------------------+------------------+---------------------+---------+--------------------+------------+\n",
      "only showing top 20 rows\n",
      "\n"
     ]
    }
   ],
   "source": [
    "df_results.drop('LocationID').write.parquet('/home/Дмитрий/datacamp/dataeng-zoomcamp/week_5_batch_processing/data/tmp/revenue-zones')"
   ]
  }
 ],
 "metadata": {
  "kernelspec": {
   "display_name": "my_venv",
   "language": "python",
   "name": "python3"
  },
  "language_info": {
   "codemirror_mode": {
    "name": "ipython",
    "version": 3
   },
   "file_extension": ".py",
   "mimetype": "text/x-python",
   "name": "python",
   "nbconvert_exporter": "python",
   "pygments_lexer": "ipython3",
   "version": "3.6.9"
  },
  "orig_nbformat": 4
 },
 "nbformat": 4,
 "nbformat_minor": 2
}
