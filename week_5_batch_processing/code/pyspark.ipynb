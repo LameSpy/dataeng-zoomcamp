{
 "cells": [
  {
   "cell_type": "code",
   "execution_count": 1,
   "metadata": {},
   "outputs": [],
   "source": [
    "import findspark\n",
    "findspark.init()\n"
   ]
  },
  {
   "cell_type": "code",
   "execution_count": 12,
   "metadata": {},
   "outputs": [],
   "source": [
    "import pyspark\n",
    "from pyspark.sql import SparkSession\n",
    "from pyspark.sql import  types\n",
    "from pyspark.sql import functions as F\n",
    "import pandas as pd"
   ]
  },
  {
   "cell_type": "code",
   "execution_count": 3,
   "metadata": {},
   "outputs": [],
   "source": [
    "spark = SparkSession.builder \\\n",
    "    .master(\"local[*]\") \\\n",
    "    .appName('test') \\\n",
    "    .getOrCreate()"
   ]
  },
  {
   "cell_type": "code",
   "execution_count": null,
   "metadata": {},
   "outputs": [],
   "source": [
    "!wget -P /home/Дмитрий/datacamp/dataeng-zoomcamp/week_5_batch_processing/data https://github.com/DataTalksClub/nyc-tlc-data/releases/download/fhvhv/fhvhv_tripdata_2021-01.csv.gz"
   ]
  },
  {
   "cell_type": "code",
   "execution_count": null,
   "metadata": {},
   "outputs": [],
   "source": [
    "!wc -l /home/Дмитрий/datacamp/dataeng-zoomcamp/week_5_batch_processing/data/fhvhv_tripdata_2021-01.csv.gz"
   ]
  },
  {
   "cell_type": "code",
   "execution_count": null,
   "metadata": {},
   "outputs": [],
   "source": [
    "df = spark.read \\\n",
    "    .option(\"header\", \"true\") \\\n",
    "    .csv('data/fhvhv_tripdata_2021-01.csv.gz')\n"
   ]
  },
  {
   "cell_type": "code",
   "execution_count": null,
   "metadata": {},
   "outputs": [],
   "source": [
    "df.head(5)"
   ]
  },
  {
   "cell_type": "code",
   "execution_count": null,
   "metadata": {},
   "outputs": [],
   "source": [
    "df.schema"
   ]
  },
  {
   "cell_type": "code",
   "execution_count": null,
   "metadata": {},
   "outputs": [],
   "source": [
    "# unpack gz file\n",
    "!gunzip data/fhvhv_tripdata_2021-01.csv.gz"
   ]
  },
  {
   "cell_type": "code",
   "execution_count": null,
   "metadata": {},
   "outputs": [],
   "source": [
    "!head -n 101 data/fhvhv_tripdata_2021-01.csv > data/head.csv"
   ]
  },
  {
   "cell_type": "code",
   "execution_count": null,
   "metadata": {},
   "outputs": [],
   "source": [
    "df_pandas = pd.read_csv('data/head.csv')"
   ]
  },
  {
   "cell_type": "code",
   "execution_count": null,
   "metadata": {},
   "outputs": [],
   "source": [
    "df_pandas.dtypes"
   ]
  },
  {
   "cell_type": "code",
   "execution_count": null,
   "metadata": {},
   "outputs": [],
   "source": [
    "spark.createDataFrame(df_pandas).schema"
   ]
  },
  {
   "cell_type": "code",
   "execution_count": null,
   "metadata": {},
   "outputs": [],
   "source": [
    "schema = types.StructType([\n",
    "    types.StructField('hvfhs_license_num', types.StringType(), True),\n",
    "    types.StructField('dispatching_base_num', types.StringType(), True),\n",
    "    types.StructField('pickup_datetime', types.TimestampType(), True),\n",
    "    types.StructField('dropoff_datetime', types.TimestampType(), True),\n",
    "    types.StructField('PULocationID', types.IntegerType(), True),\n",
    "    types.StructField('DOLocationID', types.IntegerType(), True),\n",
    "    types.StructField('SR_Flag', types.StringType(), True)])"
   ]
  },
  {
   "cell_type": "code",
   "execution_count": null,
   "metadata": {},
   "outputs": [],
   "source": [
    "df = spark.read \\\n",
    "    .option(\"header\", \"true\") \\\n",
    "    .schema(schema) \\\n",
    "    .csv('data/fhvhv_tripdata_2021-01.csv.gz')\n"
   ]
  },
  {
   "cell_type": "code",
   "execution_count": null,
   "metadata": {},
   "outputs": [],
   "source": [
    "df.head(10)"
   ]
  },
  {
   "cell_type": "code",
   "execution_count": null,
   "metadata": {},
   "outputs": [],
   "source": [
    "df = df.repartition(24)"
   ]
  },
  {
   "cell_type": "code",
   "execution_count": null,
   "metadata": {},
   "outputs": [],
   "source": [
    "df.write.parquet('data/fhvhv/2021/01/')"
   ]
  },
  {
   "cell_type": "code",
   "execution_count": 4,
   "metadata": {},
   "outputs": [],
   "source": [
    "# read partition parquet files\n",
    "df = spark.read.parquet('data/fhvhv/2021/01/')\n"
   ]
  },
  {
   "cell_type": "code",
   "execution_count": null,
   "metadata": {},
   "outputs": [],
   "source": [
    "# show schema dataframe\n",
    "df.printSchema()"
   ]
  },
  {
   "cell_type": "code",
   "execution_count": 10,
   "metadata": {},
   "outputs": [
    {
     "data": {
      "text/plain": [
       "[Row(pickup_datetime=datetime.datetime(2021, 1, 1, 16, 47, 20), dropoff_datetime=datetime.datetime(2021, 1, 1, 16, 58, 28), PULocationID=50, DOLocationID=163),\n",
       " Row(pickup_datetime=datetime.datetime(2021, 1, 5, 2, 0, 14), dropoff_datetime=datetime.datetime(2021, 1, 5, 2, 19, 39), PULocationID=48, DOLocationID=95),\n",
       " Row(pickup_datetime=datetime.datetime(2021, 1, 2, 0, 34, 43), dropoff_datetime=datetime.datetime(2021, 1, 2, 0, 45, 38), PULocationID=63, DOLocationID=77),\n",
       " Row(pickup_datetime=datetime.datetime(2021, 1, 2, 16, 20, 11), dropoff_datetime=datetime.datetime(2021, 1, 2, 16, 56, 36), PULocationID=63, DOLocationID=244),\n",
       " Row(pickup_datetime=datetime.datetime(2021, 1, 24, 16, 0, 53), dropoff_datetime=datetime.datetime(2021, 1, 24, 16, 7, 40), PULocationID=210, DOLocationID=165)]"
      ]
     },
     "execution_count": 10,
     "metadata": {},
     "output_type": "execute_result"
    }
   ],
   "source": [
    "df.select('pickup_datetime', 'dropoff_datetime', 'PULocationID', 'DOLocationID') \\\n",
    "  .filter(df.hvfhs_license_num == 'HV0003') \\\n",
    "  .head(5)"
   ]
  },
  {
   "cell_type": "code",
   "execution_count": 6,
   "metadata": {},
   "outputs": [
    {
     "data": {
      "text/plain": [
       "[Row(hvfhs_license_num='HV0005', dispatching_base_num='B02510', pickup_datetime=datetime.datetime(2021, 1, 10, 17, 40, 1), dropoff_datetime=datetime.datetime(2021, 1, 10, 17, 48, 10), PULocationID=97, DOLocationID=25, SR_Flag=None),\n",
       " Row(hvfhs_license_num='HV0005', dispatching_base_num='B02510', pickup_datetime=datetime.datetime(2021, 1, 8, 18, 19, 44), dropoff_datetime=datetime.datetime(2021, 1, 8, 18, 55, 57), PULocationID=138, DOLocationID=265, SR_Flag=None),\n",
       " Row(hvfhs_license_num='HV0003', dispatching_base_num='B02876', pickup_datetime=datetime.datetime(2021, 1, 1, 16, 47, 20), dropoff_datetime=datetime.datetime(2021, 1, 1, 16, 58, 28), PULocationID=50, DOLocationID=163, SR_Flag=None),\n",
       " Row(hvfhs_license_num='HV0005', dispatching_base_num='B02510', pickup_datetime=datetime.datetime(2021, 1, 15, 17, 50, 8), dropoff_datetime=datetime.datetime(2021, 1, 15, 18, 7, 24), PULocationID=163, DOLocationID=79, SR_Flag=None),\n",
       " Row(hvfhs_license_num='HV0005', dispatching_base_num='B02510', pickup_datetime=datetime.datetime(2021, 1, 12, 17, 26, 40), dropoff_datetime=datetime.datetime(2021, 1, 12, 17, 57, 57), PULocationID=47, DOLocationID=74, SR_Flag=None),\n",
       " Row(hvfhs_license_num='HV0003', dispatching_base_num='B02765', pickup_datetime=datetime.datetime(2021, 1, 5, 2, 0, 14), dropoff_datetime=datetime.datetime(2021, 1, 5, 2, 19, 39), PULocationID=48, DOLocationID=95, SR_Flag=None),\n",
       " Row(hvfhs_license_num='HV0003', dispatching_base_num='B02872', pickup_datetime=datetime.datetime(2021, 1, 2, 0, 34, 43), dropoff_datetime=datetime.datetime(2021, 1, 2, 0, 45, 38), PULocationID=63, DOLocationID=77, SR_Flag=None),\n",
       " Row(hvfhs_license_num='HV0005', dispatching_base_num='B02510', pickup_datetime=datetime.datetime(2021, 1, 6, 23, 24, 42), dropoff_datetime=datetime.datetime(2021, 1, 6, 23, 33, 36), PULocationID=238, DOLocationID=41, SR_Flag=None),\n",
       " Row(hvfhs_license_num='HV0003', dispatching_base_num='B02764', pickup_datetime=datetime.datetime(2021, 1, 2, 16, 20, 11), dropoff_datetime=datetime.datetime(2021, 1, 2, 16, 56, 36), PULocationID=63, DOLocationID=244, SR_Flag=None),\n",
       " Row(hvfhs_license_num='HV0003', dispatching_base_num='B02764', pickup_datetime=datetime.datetime(2021, 1, 24, 16, 0, 53), dropoff_datetime=datetime.datetime(2021, 1, 24, 16, 7, 40), PULocationID=210, DOLocationID=165, SR_Flag=None)]"
      ]
     },
     "execution_count": 6,
     "metadata": {},
     "output_type": "execute_result"
    }
   ],
   "source": [
    "df.head(10)"
   ]
  },
  {
   "cell_type": "code",
   "execution_count": 22,
   "metadata": {},
   "outputs": [
    {
     "name": "stdout",
     "output_type": "stream",
     "text": [
      "+-------+-----------+------------+------------+------------+\n",
      "|base_ud|pickup_date|dropoff_date|PULocationID|DOLocationID|\n",
      "+-------+-----------+------------+------------+------------+\n",
      "|  e/9ce| 2021-01-10|  2021-01-10|          97|          25|\n",
      "|  e/9ce| 2021-01-08|  2021-01-08|         138|         265|\n",
      "|  e/b3c| 2021-01-01|  2021-01-01|          50|         163|\n",
      "|  e/9ce| 2021-01-15|  2021-01-15|         163|          79|\n",
      "|  e/9ce| 2021-01-12|  2021-01-12|          47|          74|\n",
      "|  s/acd| 2021-01-05|  2021-01-05|          48|          95|\n",
      "|  e/b38| 2021-01-02|  2021-01-02|          63|          77|\n",
      "|  e/9ce| 2021-01-06|  2021-01-06|         238|          41|\n",
      "|  e/acc| 2021-01-02|  2021-01-02|          63|         244|\n",
      "|  e/acc| 2021-01-24|  2021-01-24|         210|         165|\n",
      "|  e/b35| 2021-01-16|  2021-01-16|         113|         143|\n",
      "|  e/9ce| 2021-01-28|  2021-01-28|          91|          89|\n",
      "|  e/acc| 2021-01-01|  2021-01-01|         231|         148|\n",
      "|  e/b33| 2021-01-19|  2021-01-19|         228|         210|\n",
      "|  e/b3b| 2021-01-17|  2021-01-17|          39|          61|\n",
      "|  e/b38| 2021-01-30|  2021-01-30|          42|         250|\n",
      "|  e/9d0| 2021-01-16|  2021-01-16|         131|         265|\n",
      "|  e/9ce| 2021-01-31|  2021-01-31|          17|          36|\n",
      "|  e/95b| 2021-01-30|  2021-01-30|         174|          47|\n",
      "|  e/9ce| 2021-01-14|  2021-01-14|          33|         255|\n",
      "+-------+-----------+------------+------------+------------+\n",
      "only showing top 20 rows\n",
      "\n"
     ]
    }
   ],
   "source": [
    "df \\\n",
    "    .withColumn('pickup_date', F.to_date(df.pickup_datetime)) \\\n",
    "    .withColumn('dropoff_date', F.to_date(df.dropoff_datetime)) \\\n",
    "    .withColumn('base_ud', crazy_staff_udf(df.dispatching_base_num)) \\\n",
    "    .select('base_ud', 'pickup_date', 'dropoff_date', 'PULocationID', 'DOLocationID') \\\n",
    "    .show()"
   ]
  },
  {
   "cell_type": "code",
   "execution_count": 16,
   "metadata": {},
   "outputs": [
    {
     "name": "stdout",
     "output_type": "stream",
     "text": [
      "+-----------------+--------------------+-------------------+-------------------+------------+------------+-------+\n",
      "|hvfhs_license_num|dispatching_base_num|    pickup_datetime|   dropoff_datetime|PULocationID|DOLocationID|SR_Flag|\n",
      "+-----------------+--------------------+-------------------+-------------------+------------+------------+-------+\n",
      "|           HV0005|              B02510|2021-01-10 17:40:01|2021-01-10 17:48:10|          97|          25|   null|\n",
      "|           HV0005|              B02510|2021-01-08 18:19:44|2021-01-08 18:55:57|         138|         265|   null|\n",
      "|           HV0003|              B02876|2021-01-01 16:47:20|2021-01-01 16:58:28|          50|         163|   null|\n",
      "|           HV0005|              B02510|2021-01-15 17:50:08|2021-01-15 18:07:24|         163|          79|   null|\n",
      "|           HV0005|              B02510|2021-01-12 17:26:40|2021-01-12 17:57:57|          47|          74|   null|\n",
      "|           HV0003|              B02765|2021-01-05 02:00:14|2021-01-05 02:19:39|          48|          95|   null|\n",
      "|           HV0003|              B02872|2021-01-02 00:34:43|2021-01-02 00:45:38|          63|          77|   null|\n",
      "|           HV0005|              B02510|2021-01-06 23:24:42|2021-01-06 23:33:36|         238|          41|   null|\n",
      "|           HV0003|              B02764|2021-01-02 16:20:11|2021-01-02 16:56:36|          63|         244|   null|\n",
      "|           HV0003|              B02764|2021-01-24 16:00:53|2021-01-24 16:07:40|         210|         165|   null|\n",
      "|           HV0003|              B02869|2021-01-16 19:35:17|2021-01-16 19:50:20|         113|         143|   null|\n",
      "|           HV0005|              B02510|2021-01-28 22:17:58|2021-01-28 22:27:29|          91|          89|   null|\n",
      "|           HV0003|              B02764|2021-01-01 11:15:17|2021-01-01 11:24:55|         231|         148|   null|\n",
      "|           HV0003|              B02867|2021-01-19 12:05:32|2021-01-19 12:33:46|         228|         210|   null|\n",
      "|           HV0003|              B02875|2021-01-17 13:54:52|2021-01-17 14:07:03|          39|          61|   null|\n",
      "|           HV0003|              B02872|2021-01-30 18:03:33|2021-01-30 18:23:17|          42|         250|   null|\n",
      "|           HV0003|              B02512|2021-01-16 12:36:55|2021-01-16 13:03:23|         131|         265|   null|\n",
      "|           HV0005|              B02510|2021-01-31 05:04:30|2021-01-31 05:12:53|          17|          36|   null|\n",
      "|           HV0003|              B02395|2021-01-30 23:07:14|2021-01-30 23:27:34|         174|          47|   null|\n",
      "|           HV0005|              B02510|2021-01-14 18:14:20|2021-01-14 18:33:58|          33|         255|   null|\n",
      "+-----------------+--------------------+-------------------+-------------------+------------+------------+-------+\n",
      "only showing top 20 rows\n",
      "\n"
     ]
    }
   ],
   "source": [
    "df.show()"
   ]
  },
  {
   "cell_type": "code",
   "execution_count": 18,
   "metadata": {},
   "outputs": [],
   "source": [
    "def crazy_staff(base_num):\n",
    "    num = int(base_num[1:])\n",
    "    if num % 7 == 0:\n",
    "        return f's/{num:03x}'\n",
    "    elif num % 3 == 0:\n",
    "        return f'a/{num:03x}'\n",
    "    else:\n",
    "        return f'e/{num:03x}'"
   ]
  },
  {
   "cell_type": "code",
   "execution_count": 21,
   "metadata": {},
   "outputs": [],
   "source": [
    "crazy_staff_udf = F.udf(crazy_staff, returnType=types.StringType())"
   ]
  }
 ],
 "metadata": {
  "kernelspec": {
   "display_name": "my_venv",
   "language": "python",
   "name": "python3"
  },
  "language_info": {
   "codemirror_mode": {
    "name": "ipython",
    "version": 3
   },
   "file_extension": ".py",
   "mimetype": "text/x-python",
   "name": "python",
   "nbconvert_exporter": "python",
   "pygments_lexer": "ipython3",
   "version": "3.6.9"
  },
  "orig_nbformat": 4
 },
 "nbformat": 4,
 "nbformat_minor": 2
}
